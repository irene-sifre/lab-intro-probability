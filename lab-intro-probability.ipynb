{
 "cells": [
  {
   "cell_type": "markdown",
   "metadata": {},
   "source": [
    "# Lab | Intro to Probability"
   ]
  },
  {
   "cell_type": "markdown",
   "metadata": {},
   "source": [
    "**Objective**\n",
    "\n",
    "Welcome to this Intro to Probability lab, where we explore decision-making scenarios through the lens of probability and strategic analysis. In the business world, making informed decisions is crucial, especially when faced with uncertainties. This lab focuses on scenarios where probabilistic outcomes play a significant role in shaping strategies and outcomes. Students will engage in exercises that require assessing and choosing optimal paths based on data-driven insights. The goal is to enhance your skills by applying probability concepts to solve real-world problems."
   ]
  },
  {
   "cell_type": "markdown",
   "metadata": {},
   "source": [
    "**Challenge 1**"
   ]
  },
  {
   "cell_type": "markdown",
   "metadata": {},
   "source": [
    "#### Ironhack Airlines \n",
    "\n",
    "Often Airlines sell more tickets than they have seats available, this is called overbooking. Consider the following:\n",
    "- A plane has 450 seats. \n",
    "- Based on historical data we conclude that each individual passenger has a 3% chance of missing it's flight. \n",
    "\n",
    "If the Ironhack Airlines routinely sells 460 tickets, what is the chance that they have a seats for all passenger?"
   ]
  },
  {
   "cell_type": "code",
   "execution_count": 1,
   "metadata": {},
   "outputs": [
    {
     "name": "stdout",
     "output_type": "stream",
     "text": [
      "The probability that Ironhack Airlines has enough seats for all passengers is: 0.8845\n"
     ]
    }
   ],
   "source": [
    "#code here\n",
    "import scipy.stats as stats\n",
    "\n",
    "# Parameters\n",
    "n = 460  # total tickets sold\n",
    "p = 0.97  # probability of showing up\n",
    "k = 450  # number of seats available\n",
    "\n",
    "# Calculate the probability of having seats for all passengers\n",
    "probability_seats_available = stats.binom.cdf(k, n, p)\n",
    "\n",
    "# Print the result\n",
    "print(f\"The probability that Ironhack Airlines has enough seats for all passengers is: {probability_seats_available:.4f}\")"
   ]
  },
  {
   "cell_type": "markdown",
   "metadata": {},
   "source": [
    "**Challenge 2**"
   ]
  },
  {
   "cell_type": "markdown",
   "metadata": {},
   "source": [
    "#### Ironhack Call Center "
   ]
  },
  {
   "cell_type": "markdown",
   "metadata": {},
   "source": [
    "Suppose a customer service representative at a call center is handling customer complaints. Consider the following:\n",
    "- The probability of successfully resolving a customer complaint on the first attempt is 0.3. \n",
    "\n",
    "\n",
    "What is the probability that the representative needs to make at least three attempts before successfully resolving a customer complaint?"
   ]
  },
  {
   "cell_type": "code",
   "execution_count": 3,
   "metadata": {},
   "outputs": [
    {
     "name": "stdout",
     "output_type": "stream",
     "text": [
      "The probability that the representative needs at least three attempts is: 0.4900\n"
     ]
    }
   ],
   "source": [
    "# Parameters\n",
    "p = 0.3  # probability of success\n",
    "q = 1 - p  # probability of failure\n",
    "\n",
    "# Calculate the probability that at least 3 attempts are needed\n",
    "k = 3\n",
    "probability_at_least_three_attempts = q ** (k - 1)\n",
    "\n",
    "# Print the result\n",
    "print(f\"The probability that the representative needs at least three attempts is: {probability_at_least_three_attempts:.4f}\")\n"
   ]
  },
  {
   "cell_type": "markdown",
   "metadata": {},
   "source": [
    "**Challenge 3**"
   ]
  },
  {
   "cell_type": "markdown",
   "metadata": {},
   "source": [
    "#### Ironhack Website"
   ]
  },
  {
   "cell_type": "markdown",
   "metadata": {},
   "source": [
    "Consider a scenario related to Ironhack website traffic. Where:\n",
    "- our website takes on average 500 visits per hour.\n",
    "- the website's server is designed to handle up to 550 vists per hour.\n",
    "\n",
    "\n",
    "What is the probability of the website server being overwhelmed?"
   ]
  },
  {
   "cell_type": "code",
   "execution_count": 4,
   "metadata": {},
   "outputs": [
    {
     "name": "stdout",
     "output_type": "stream",
     "text": [
      "The probability that the website server is overwhelmed is: 0.0129\n"
     ]
    }
   ],
   "source": [
    "\n",
    "# Parameters\n",
    "lambda_visits = 500  # average visits per hour\n",
    "threshold = 550  # threshold for being overwhelmed\n",
    "\n",
    "# Calculate the probability of being overwhelmed\n",
    "probability_overwhelmed = 1 - stats.poisson.cdf(threshold, lambda_visits)\n",
    "\n",
    "# Print the result\n",
    "print(f\"The probability that the website server is overwhelmed is: {probability_overwhelmed:.4f}\")\n"
   ]
  },
  {
   "cell_type": "markdown",
   "metadata": {},
   "source": [
    "What is the probability of being overwhelmed at some point during a day? (consider 24hours)"
   ]
  },
  {
   "cell_type": "code",
   "execution_count": 5,
   "metadata": {},
   "outputs": [
    {
     "name": "stdout",
     "output_type": "stream",
     "text": [
      "The probability of being overwhelmed at least once during a day is: 0.2677\n"
     ]
    }
   ],
   "source": [
    "\n",
    "# Parameters\n",
    "lambda_visits = 500  # average visits per hour\n",
    "threshold = 550  # threshold for being overwhelmed\n",
    "hours_in_a_day = 24  # number of hours in a day\n",
    "\n",
    "# Calculate the probability of being overwhelmed in one hour\n",
    "probability_overwhelmed_one_hour = 1 - stats.poisson.cdf(threshold, lambda_visits)\n",
    "\n",
    "# Calculate the probability of not being overwhelmed in one hour\n",
    "probability_not_overwhelmed_one_hour = 1 - probability_overwhelmed_one_hour\n",
    "\n",
    "# Calculate the probability of not being overwhelmed in 24 hours\n",
    "probability_not_overwhelmed_24_hours = probability_not_overwhelmed_one_hour ** hours_in_a_day\n",
    "\n",
    "# Calculate the probability of being overwhelmed at least once in 24 hours\n",
    "probability_overwhelmed_at_least_once = 1 - probability_not_overwhelmed_24_hours\n",
    "\n",
    "# Print the result\n",
    "print(f\"The probability of being overwhelmed at least once during a day is: {probability_overwhelmed_at_least_once:.4f}\")\n"
   ]
  },
  {
   "cell_type": "markdown",
   "metadata": {},
   "source": [
    "**Challenge 4**"
   ]
  },
  {
   "cell_type": "markdown",
   "metadata": {},
   "source": [
    "#### Ironhack Helpdesk"
   ]
  },
  {
   "cell_type": "markdown",
   "metadata": {},
   "source": [
    "Consider a scenario related to the time between arrivals of customers at a service desk.\n",
    "\n",
    "On average, a customers arrives every 10minutes.\n",
    "\n",
    "What is the probability that the next customer will arrive within the next 5 minutes?"
   ]
  },
  {
   "cell_type": "code",
   "execution_count": 6,
   "metadata": {},
   "outputs": [
    {
     "name": "stdout",
     "output_type": "stream",
     "text": [
      "The probability that the next customer will arrive within the next 5 minutes is: 0.3935\n"
     ]
    }
   ],
   "source": [
    "import math\n",
    "\n",
    "# Parameters\n",
    "mean_time_between_arrivals = 10  # in minutes\n",
    "lambda_rate = 1 / mean_time_between_arrivals  # rate of arrivals (arrivals per minute)\n",
    "time_interval = 5  # time interval (in minutes)\n",
    "\n",
    "# Calculate the probability that the next customer arrives within the next 5 minutes\n",
    "probability_next_customer_within_5_minutes = 1 - math.exp(-lambda_rate * time_interval)\n",
    "\n",
    "# Print the result\n",
    "print(f\"The probability that the next customer will arrive within the next 5 minutes is: {probability_next_customer_within_5_minutes:.4f}\")\n"
   ]
  },
  {
   "cell_type": "markdown",
   "metadata": {},
   "source": [
    "If there is no customer for 15minutes, employees can that a 5minutes break.\n",
    "\n",
    "What is the probability an employee taking a break?"
   ]
  },
  {
   "cell_type": "code",
   "execution_count": 8,
   "metadata": {},
   "outputs": [
    {
     "name": "stdout",
     "output_type": "stream",
     "text": [
      "The probability that no customer arrives in the next 15 minutes is: 0.2231\n"
     ]
    }
   ],
   "source": [
    "# Parameters\n",
    "lambda_rate = 1 / 10  # rate of arrivals (arrivals per minute)\n",
    "time_no_customers = 15  # time interval (in minutes)\n",
    "\n",
    "# Calculate the probability that no customer arrives in 15 minutes\n",
    "probability_no_customers_in_15_minutes = math.exp(-lambda_rate * time_no_customers)\n",
    "\n",
    "# Print the result\n",
    "print(f\"The probability that no customer arrives in the next 15 minutes is: {probability_no_customers_in_15_minutes:.4f}\")"
   ]
  },
  {
   "cell_type": "markdown",
   "metadata": {},
   "source": [
    "**Challenge 5**"
   ]
  },
  {
   "cell_type": "markdown",
   "metadata": {},
   "source": [
    "The weights of a certain species of birds follow a normal distribution with a mean weight of 150 grams and a standard deviation of 10 grams. \n",
    "\n",
    "- If we randomly select a bird, what is the probability that its weight is between 140 and 160 grams?"
   ]
  },
  {
   "cell_type": "code",
   "execution_count": 9,
   "metadata": {},
   "outputs": [
    {
     "name": "stdout",
     "output_type": "stream",
     "text": [
      "The probability that a randomly selected bird weighs between 140 and 160 grams is: 0.6827\n"
     ]
    }
   ],
   "source": [
    "# Parameters\n",
    "mean_weight = 150  # mean weight in grams\n",
    "std_dev_weight = 10  # standard deviation in grams\n",
    "\n",
    "# Calculate the probabilities for the given weights\n",
    "z_140 = (140 - mean_weight) / std_dev_weight\n",
    "z_160 = (160 - mean_weight) / std_dev_weight\n",
    "\n",
    "# Calculate the probability that the weight is between 140 and 160 grams\n",
    "probability_between_140_and_160 = stats.norm.cdf(z_160) - stats.norm.cdf(z_140)\n",
    "\n",
    "# Print the result\n",
    "print(f\"The probability that a randomly selected bird weighs between 140 and 160 grams is: {probability_between_140_and_160:.4f}\")"
   ]
  },
  {
   "cell_type": "markdown",
   "metadata": {},
   "source": [
    "**Challenge 6**"
   ]
  },
  {
   "cell_type": "markdown",
   "metadata": {},
   "source": [
    "If the lifetime (in hours) of a certain electronic component follows an exponential distribution with a mean lifetime of 50 hours, what is the probability that the component fails within the first 30 hours?"
   ]
  },
  {
   "cell_type": "code",
   "execution_count": 10,
   "metadata": {},
   "outputs": [
    {
     "name": "stdout",
     "output_type": "stream",
     "text": [
      "The probability that the component fails within the first 30 hours is: 0.4512\n"
     ]
    }
   ],
   "source": [
    "# Parameters\n",
    "mean_lifetime = 50  # mean lifetime in hours\n",
    "lambda_rate = 1 / mean_lifetime  # rate of failure (failures per hour)\n",
    "time_failure = 30  # time interval (in hours)\n",
    "\n",
    "# Calculate the probability that the component fails within the first 30 hours\n",
    "probability_failure_within_30_hours = 1 - math.exp(-lambda_rate * time_failure)\n",
    "\n",
    "# Print the result\n",
    "print(f\"The probability that the component fails within the first 30 hours is: {probability_failure_within_30_hours:.4f}\")\n"
   ]
  }
 ],
 "metadata": {
  "kernelspec": {
   "display_name": "Python 3",
   "language": "python",
   "name": "python3"
  },
  "language_info": {
   "codemirror_mode": {
    "name": "ipython",
    "version": 3
   },
   "file_extension": ".py",
   "mimetype": "text/x-python",
   "name": "python",
   "nbconvert_exporter": "python",
   "pygments_lexer": "ipython3",
   "version": "3.12.4"
  }
 },
 "nbformat": 4,
 "nbformat_minor": 2
}
